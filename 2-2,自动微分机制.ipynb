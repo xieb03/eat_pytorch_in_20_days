{
 "cells": [
  {
   "cell_type": "markdown",
   "id": "75b1c09e",
   "metadata": {},
   "source": [
    "# 2-2,自动微分机制"
   ]
  },
  {
   "cell_type": "markdown",
   "id": "d2b2a272",
   "metadata": {},
   "source": [
    "神经网络通常依赖反向传播求梯度来更新网络参数，求梯度过程通常是一件非常复杂而容易出错的事情。\n",
    "\n",
    "而深度学习框架可以帮助我们自动地完成这种求梯度运算。\n",
    "\n",
    "Pytorch一般通过反向传播 backward 方法 实现这种求梯度计算。该方法求得的梯度将存在对应自变量张量的grad属性下。\n",
    "\n",
    "**除此之外，也能够调用torch.autograd.grad 函数来实现求梯度计算，但用的比较少，一般用来求高阶导数。**\n",
    "\n",
    "这就是Pytorch的自动微分机制。"
   ]
  },
  {
   "cell_type": "code",
   "execution_count": 1,
   "id": "663ac7ae",
   "metadata": {},
   "outputs": [
    {
     "name": "stdout",
     "output_type": "stream",
     "text": [
      "torch.__version__ =  2.0.1+cu118\n",
      "torchvision.__version__ =  0.15.2+cu118\n",
      "pytorch_lightning.__version__ =  2.0.2\n",
      "torchtext.__version__ =  0.15.2\n",
      "torchdata.__version__ =  0.6.1\n",
      "torchmetrics.__version__ =  0.11.4\n",
      "torchkeras.__version__ =  3.8.2\n",
      "yaml.__version__ =  6.0\n",
      "tensorflow sed random seed fail.\n"
     ]
    }
   ],
   "source": [
    "import os\n",
    "import datetime\n",
    "import torchkeras\n",
    "\n",
    "#打印时间\n",
    "def printbar():\n",
    "    nowtime = datetime.datetime.now().strftime('%Y-%m-%d %H:%M:%S')\n",
    "    print(\"\\n\"+\"==========\"*8 + \"%s\"%nowtime)\n",
    "\n",
    "#mac系统上pytorch和matplotlib在jupyter中同时跑需要更改环境变量\n",
    "os.environ[\"KMP_DUPLICATE_LIB_OK\"]=\"TRUE\" \n",
    "from python_cgtools.utils_date import *\n",
    "from python_cgtools.utils_torch import *"
   ]
  },
  {
   "cell_type": "markdown",
   "id": "7e72ea02",
   "metadata": {},
   "source": [
    "```\n",
    "torch.__version__=1.10.0\n",
    "```"
   ]
  },
  {
   "cell_type": "code",
   "execution_count": 2,
   "id": "c8ef2634",
   "metadata": {},
   "outputs": [
    {
     "name": "stdout",
     "output_type": "stream",
     "text": [
      "2023-05-29 00:42:39:start.........\n"
     ]
    }
   ],
   "source": [
    "start_time = time.time()\n",
    "print_with_time(\"start.........\")"
   ]
  },
  {
   "cell_type": "markdown",
   "id": "d80820ba",
   "metadata": {},
   "source": [
    "### 一，利用backward方法求导数"
   ]
  },
  {
   "cell_type": "markdown",
   "id": "c211749b",
   "metadata": {},
   "source": [
    "backward 方法通常在一个标量张量上调用，该方法求得的梯度将存在对应自变量张量的grad属性下。\n",
    "\n",
    "如果调用的张量非标量，则要传入一个和它同形状 的gradient参数张量。\n",
    "\n",
    "相当于用该gradient参数张量与调用张量作向量点乘，得到的标量结果再反向传播。\n"
   ]
  },
  {
   "cell_type": "markdown",
   "id": "43160576",
   "metadata": {},
   "source": [
    "**1, 标量的反向传播**"
   ]
  },
  {
   "cell_type": "code",
   "execution_count": 3,
   "id": "b528ce63",
   "metadata": {},
   "outputs": [
    {
     "name": "stdout",
     "output_type": "stream",
     "text": [
      "tensor(-2.)\n"
     ]
    }
   ],
   "source": [
    "import numpy as np \n",
    "import torch \n",
    "\n",
    "# f(x) = a*x**2 + b*x + c的导数\n",
    "\n",
    "x = torch.tensor(0.0,requires_grad = True) # x需要被求导\n",
    "a = torch.tensor(1.0)\n",
    "b = torch.tensor(-2.0)\n",
    "c = torch.tensor(1.0)\n",
    "y = a*torch.pow(x,2) + b*x + c \n",
    "\n",
    "y.backward()\n",
    "dy_dx = x.grad\n",
    "# tensor(-2.)\n",
    "print(dy_dx)\n"
   ]
  },
  {
   "cell_type": "markdown",
   "id": "670b49a0",
   "metadata": {},
   "source": [
    "```\n",
    "tensor(-2.)\n",
    "```"
   ]
  },
  {
   "cell_type": "code",
   "execution_count": 4,
   "id": "eee7aacb",
   "metadata": {},
   "outputs": [],
   "source": [
    "import numpy as np \n",
    "import torch \n",
    "\n",
    "x = torch.tensor([0.0, 0.0],requires_grad = True) # x需要被求导\n",
    "y = torch.pow(x,2)\n",
    "\n",
    "# RuntimeError: grad can be implicitly created only for scalar outputs\n",
    "# 求导默认只能对标量来求，一般模型的 loss 都是标量\n",
    "# y.backward()"
   ]
  },
  {
   "cell_type": "code",
   "execution_count": 5,
   "id": "bc8f8a5f",
   "metadata": {},
   "outputs": [],
   "source": [
    "import numpy as np \n",
    "import torch \n",
    "\n",
    "x = torch.tensor([0.0],requires_grad = False)\n",
    "y = torch.pow(x,2)\n",
    "\n",
    "# RuntimeError: element 0 of tensors does not require grad and does not have a grad_fn\n",
    "# 能求导要求包含自变量，即 requires_grad=True 的量\n",
    "# y.backward()"
   ]
  },
  {
   "cell_type": "markdown",
   "id": "d09f3917",
   "metadata": {},
   "source": [
    "**2, 非标量的反向传播**"
   ]
  },
  {
   "cell_type": "code",
   "execution_count": 6,
   "id": "e08b055e",
   "metadata": {},
   "outputs": [
    {
     "name": "stdout",
     "output_type": "stream",
     "text": [
      "x:\n",
      " tensor([[0., 0.],\n",
      "        [1., 2.]], requires_grad=True)\n",
      "y:\n",
      " tensor([[1., 1.],\n",
      "        [0., 1.]], grad_fn=<AddBackward0>)\n",
      "x_grad:\n",
      " tensor([[-2., -2.],\n",
      "        [ 0.,  2.]])\n"
     ]
    }
   ],
   "source": [
    "import numpy as np \n",
    "import torch \n",
    "\n",
    "# f(x) = a*x**2 + b*x + c\n",
    "\n",
    "x = torch.tensor([[0.0,0.0],[1.0,2.0]],requires_grad = True) # x需要被求导\n",
    "a = torch.tensor(1.0)\n",
    "b = torch.tensor(-2.0)\n",
    "c = torch.tensor(1.0)\n",
    "# [0, 0, 1, 4] - [0, 0, 2, 4] + 1 = [1, 1, 0, 1]\n",
    "y = a*torch.pow(x,2) + b*x + c \n",
    "\n",
    "gradient = torch.tensor([[1.0,1.0],[1.0,1.0]])\n",
    "\n",
    "# x:\n",
    "#  tensor([[0., 0.],\n",
    "#         [1., 2.]], requires_grad=True)\n",
    "# y:\n",
    "#  tensor([[1., 1.],\n",
    "#         [0., 1.]], grad_fn=<AddBackward0>)\n",
    "# x_grad:\n",
    "#  tensor([[-2., -2.],\n",
    "#         [ 0.,  2.]])\n",
    "print(\"x:\\n\",x)\n",
    "print(\"y:\\n\",y)\n",
    "y.backward(gradient = gradient)\n",
    "x_grad = x.grad\n",
    "print(\"x_grad:\\n\",x_grad)"
   ]
  },
  {
   "cell_type": "markdown",
   "id": "d1edbaa3",
   "metadata": {},
   "source": [
    "```\n",
    "x:\n",
    " tensor([[0., 0.],\n",
    "        [1., 2.]], requires_grad=True)\n",
    "y:\n",
    " tensor([[1., 1.],\n",
    "        [0., 1.]], grad_fn=<AddBackward0>)\n",
    "x_grad:\n",
    " tensor([[-2., -2.],\n",
    "        [ 0.,  2.]])\n",
    "```"
   ]
  },
  {
   "cell_type": "markdown",
   "id": "53911b0f",
   "metadata": {},
   "source": [
    "**3, 非标量的反向传播可以用标量的反向传播实现**"
   ]
  },
  {
   "cell_type": "code",
   "execution_count": 7,
   "id": "4323b96b",
   "metadata": {},
   "outputs": [
    {
     "name": "stdout",
     "output_type": "stream",
     "text": [
      "x: tensor([[0., 0.],\n",
      "        [1., 2.]], requires_grad=True)\n",
      "y: tensor([[1., 1.],\n",
      "        [0., 1.]], grad_fn=<AddBackward0>)\n",
      "x_grad:\n",
      " tensor([[-2., -2.],\n",
      "        [ 0.,  2.]])\n"
     ]
    }
   ],
   "source": [
    "import numpy as np \n",
    "import torch \n",
    "\n",
    "# f(x) = a*x**2 + b*x + c\n",
    "\n",
    "x = torch.tensor([[0.0,0.0],[1.0,2.0]],requires_grad = True) # x需要被求导\n",
    "a = torch.tensor(1.0)\n",
    "b = torch.tensor(-2.0)\n",
    "c = torch.tensor(1.0)\n",
    "y = a*torch.pow(x,2) + b*x + c \n",
    "\n",
    "gradient = torch.tensor([[1.0,1.0],[1.0,1.0]])\n",
    "# 将结果变成一个标量，如果 gradient 都是元素1，相当于将各个分量相加，对于此例来说，x 的分量之间没有耦合，因此结果等价于每个分量独立求导\n",
    "# 注意是偏导\n",
    "# z = (2a^2 - 2a + 1) + (2b^2 - 2b + 1) + (2c^2 - 2c + 1) + (2d^2 - 2d + 1)\n",
    "# ∂z/∂x_0 = 2a - 2 = -2\n",
    "# ∂z/∂x_1 = 2b - 2 = -2\n",
    "# ∂z/∂x_2 = 2c - 2 = 0\n",
    "# ∂z/∂x_3 = 2d - 2 = 2\n",
    "z = torch.sum(y*gradient)\n",
    "\n",
    "# x: tensor([[0., 0.],\n",
    "#         [1., 2.]], requires_grad=True)\n",
    "# y: tensor([[1., 1.],\n",
    "#         [0., 1.]], grad_fn=<AddBackward0>)\n",
    "# x_grad:\n",
    "#  tensor([[-2., -2.],\n",
    "#         [ 0.,  2.]])\n",
    "print(\"x:\",x)\n",
    "print(\"y:\",y)\n",
    "z.backward()\n",
    "x_grad = x.grad\n",
    "print(\"x_grad:\\n\",x_grad)\n"
   ]
  },
  {
   "cell_type": "markdown",
   "id": "3d771601",
   "metadata": {},
   "source": [
    "```\n",
    "x: tensor([[0., 0.],\n",
    "        [1., 2.]], requires_grad=True)\n",
    "y: tensor([[1., 1.],\n",
    "        [0., 1.]], grad_fn=<AddBackward0>)\n",
    "x_grad:\n",
    " tensor([[-2., -2.],\n",
    "        [ 0.,  2.]])\n",
    "```"
   ]
  },
  {
   "cell_type": "code",
   "execution_count": 8,
   "id": "d0b7f889",
   "metadata": {},
   "outputs": [
    {
     "name": "stdout",
     "output_type": "stream",
     "text": [
      "x: tensor([[0., 0.],\n",
      "        [1., 2.]], requires_grad=True)\n",
      "y: tensor([[0., 0.],\n",
      "        [2., 4.]], grad_fn=<MmBackward0>)\n",
      "x_grad:\n",
      " tensor([[1., 4.],\n",
      "        [2., 5.]])\n"
     ]
    }
   ],
   "source": [
    "import numpy as np \n",
    "import torch \n",
    "\n",
    "# f(x) = a*x**2 + b*x + c\n",
    "\n",
    "x = torch.tensor([[0.0,0.0],[1.0,2.0]],requires_grad = True) # x需要被求导\n",
    "y = torch.matmul(x, x)\n",
    "\n",
    "gradient = torch.tensor([[1.0,1.0],[1.0,1.0]])\n",
    "# 如果标量对于 x 的分量并不独立，即分量之间有交叉，那么结果会更复杂一些\n",
    "# z = [[a, b], [c, d]] * [[a, b], [c, d]] = (a^2 + bc) + (ab + bd) + (ca + dc) + (cb + d^2) = a^2 + ab + ac + 2bc + bd + cd + d^2\n",
    "# a = 0, b = 0, c = 1, d = 2\n",
    "# ∂z/∂a = 2a + b + c = 1\n",
    "# ∂z/∂b = a + 2c + d = 4\n",
    "# ∂z/∂c = a + 2b + d = 2\n",
    "# ∂z/∂d = b + c + 2d = 5\n",
    "z = torch.sum(y*gradient)\n",
    "\n",
    "# x: tensor([[0., 0.],\n",
    "#         [1., 2.]], requires_grad=True)\n",
    "# y: tensor([[0., 0.],\n",
    "#         [2., 4.]], grad_fn=<MmBackward0>)\n",
    "# x_grad:\n",
    "#  tensor([[1., 4.],\n",
    "#         [2., 5.]])\n",
    "print(\"x:\",x)\n",
    "print(\"y:\",y)\n",
    "z.backward()\n",
    "x_grad = x.grad\n",
    "print(\"x_grad:\\n\",x_grad)\n"
   ]
  },
  {
   "cell_type": "code",
   "execution_count": 9,
   "id": "bb1d1421",
   "metadata": {},
   "outputs": [
    {
     "name": "stdout",
     "output_type": "stream",
     "text": [
      "x: tensor([[0., 0.],\n",
      "        [1., 2.]], requires_grad=True)\n",
      "y: tensor([[0., 0.],\n",
      "        [2., 4.]], grad_fn=<MmBackward0>)\n",
      "x_grad:\n",
      " tensor([[ 2.,  8.],\n",
      "        [ 4., 10.]])\n"
     ]
    }
   ],
   "source": [
    "import numpy as np \n",
    "import torch \n",
    "\n",
    "# f(x) = a*x**2 + b*x + c\n",
    "\n",
    "x = torch.tensor([[0.0,0.0],[1.0,2.0]],requires_grad = True) # x需要被求导\n",
    "y = torch.matmul(x, x)\n",
    "\n",
    "gradient = torch.tensor([[1.0,1.0],[1.0,1.0]])\n",
    "# 如果标量对于 x 的分量并不独立，即分量之间有交叉，那么结果会更复杂一些\n",
    "# z = [[a, b], [c, d]] * [[a, b], [c, d]] = (a^2 + bc) + (ab + bd) + (ca + dc) + (cb + d^2) = a^2 + ab + ac + 2bc + bd + cd + d^2\n",
    "# a = 0, b = 0, c = 1, d = 2\n",
    "# ∂z/∂a = 2a + b + c = 1\n",
    "# ∂z/∂b = a + 2c + d = 4\n",
    "# ∂z/∂c = a + 2b + d = 2\n",
    "# ∂z/∂d = b + c + 2d = 5\n",
    "z = torch.sum(y*gradient)\n",
    "\n",
    "# x: tensor([[0., 0.],\n",
    "#         [1., 2.]], requires_grad=True)\n",
    "# y: tensor([[0., 0.],\n",
    "#         [2., 4.]], grad_fn=<MmBackward0>)\n",
    "# x_grad:\n",
    "#  tensor([[ 2.,  8.],\n",
    "#         [ 4., 10.]])\n",
    "print(\"x:\",x)\n",
    "print(\"y:\",y)\n",
    "# 如果要多次求梯度，首先要把 retain_graph 设置成 True，然后 pytorch 默认会把多次求梯度的结果加和\n",
    "# 对于此例可以看到梯度结果乘以了 2\n",
    "z.backward(retain_graph=True)\n",
    "z.backward()\n",
    "x_grad = x.grad\n",
    "print(\"x_grad:\\n\",x_grad)\n"
   ]
  },
  {
   "cell_type": "markdown",
   "id": "9ad40b01",
   "metadata": {},
   "source": [
    "### 二，利用autograd.grad方法求导数"
   ]
  },
  {
   "cell_type": "code",
   "execution_count": 10,
   "id": "53328d7b",
   "metadata": {},
   "outputs": [
    {
     "name": "stdout",
     "output_type": "stream",
     "text": [
      "tensor(-2.)\n",
      "tensor(2.)\n"
     ]
    }
   ],
   "source": [
    "import numpy as np \n",
    "import torch \n",
    "\n",
    "# f(x) = a*x**2 + b*x + c的导数\n",
    "\n",
    "x = torch.tensor(0.0,requires_grad = True) # x需要被求导\n",
    "a = torch.tensor(1.0)\n",
    "b = torch.tensor(-2.0)\n",
    "c = torch.tensor(1.0)\n",
    "y = a*torch.pow(x,2) + b*x + c\n",
    "\n",
    "\n",
    "# create_graph 设置为 True 将允许创建更高阶的导数 \n",
    "# dy / dx = 2x + b = -2\n",
    "dy_dx = torch.autograd.grad(y,x,create_graph=True)[0]\n",
    "# tensor(-2.)\n",
    "print(dy_dx.data)\n",
    "\n",
    "# 求二阶导数\n",
    "# dy2/dx2 = d(2x +b) / dx = 2\n",
    "dy2_dx2 = torch.autograd.grad(dy_dx,x)[0] \n",
    "# tensor(2.)\n",
    "print(dy2_dx2.data)\n",
    "\n"
   ]
  },
  {
   "cell_type": "markdown",
   "id": "1a93cf05",
   "metadata": {},
   "source": [
    "```\n",
    "tensor(-2.)\n",
    "tensor(2.)\n",
    "```"
   ]
  },
  {
   "cell_type": "code",
   "execution_count": 11,
   "id": "320ddde4",
   "metadata": {},
   "outputs": [
    {
     "name": "stdout",
     "output_type": "stream",
     "text": [
      "tensor(2.) tensor(1.)\n",
      "tensor(3.) tensor(2.)\n"
     ]
    }
   ],
   "source": [
    "import numpy as np \n",
    "import torch \n",
    "\n",
    "x1 = torch.tensor(1.0,requires_grad = True) # x需要被求导\n",
    "x2 = torch.tensor(2.0,requires_grad = True)\n",
    "\n",
    "y1 = x1*x2\n",
    "y2 = x1+x2\n",
    "\n",
    "\n",
    "# 允许同时对多个自变量求导数\n",
    "# dy1/dx1 = x2 = 2\n",
    "# dy1/dx2 = 1\n",
    "# 必须设置 retain_graph = True,否则\n",
    "# Trying to backward through the graph a second time (or directly access saved tensors after they have already been freed). \n",
    "# Saved intermediate values of the graph are freed when you call .backward() or autograd.grad(). \n",
    "# Specify retain_graph=True if you need to backward through the graph a second time \n",
    "# or if you need to access saved tensors after calling backward.\n",
    "(dy1_dx1,dy1_dx2) = torch.autograd.grad(outputs=y1,inputs = [x1,x2],retain_graph = True)\n",
    "# tensor(2.) tensor(1.)\n",
    "print(dy1_dx1,dy1_dx2)\n",
    "\n",
    "# 如果有多个因变量，相当于把多个因变量的梯度结果求和\n",
    "# dy1/dx1 + dy2/dx1 = x2 + 1 = 3\n",
    "# dy1/dx2 + dy2/dx2 = x1 + 1 = 2\n",
    "(dy12_dx1,dy12_dx2) = torch.autograd.grad(outputs=[y1,y2],inputs = [x1,x2])\n",
    "print(dy12_dx1,dy12_dx2)\n",
    "\n"
   ]
  },
  {
   "cell_type": "markdown",
   "id": "43c5a169",
   "metadata": {},
   "source": [
    "```\n",
    "tensor(2.) tensor(1.)\n",
    "tensor(3.) tensor(2.)\n",
    "```"
   ]
  },
  {
   "cell_type": "code",
   "execution_count": null,
   "id": "8600f6c6",
   "metadata": {},
   "outputs": [],
   "source": []
  },
  {
   "cell_type": "markdown",
   "id": "6169370f",
   "metadata": {},
   "source": [
    "### 三，利用自动微分和优化器求极值（不一定是最）"
   ]
  },
  {
   "cell_type": "code",
   "execution_count": 12,
   "id": "31648fa0",
   "metadata": {},
   "outputs": [
    {
     "name": "stdout",
     "output_type": "stream",
     "text": [
      "y= tensor(0.) ; x= tensor(1.0000)\n"
     ]
    }
   ],
   "source": [
    "import numpy as np \n",
    "import torch \n",
    "\n",
    "# f(x) = a*x**2 + b*x + c的最小值\n",
    "\n",
    "x = torch.tensor(0.0,requires_grad = True) # x需要被求导\n",
    "a = torch.tensor(1.0)\n",
    "b = torch.tensor(-2.0)\n",
    "c = torch.tensor(1.0)\n",
    "\n",
    "optimizer = torch.optim.SGD(params=[x],lr = 0.01)\n",
    "\n",
    "\n",
    "def f(x):\n",
    "    result = a*torch.pow(x,2) + b*x + c \n",
    "    return(result)\n",
    "\n",
    "# 其实就是模拟了梯度下降，注意 y = f(x) 每次都会用新的 x 重新计算，相当于每个 batch 结束后，要更新输入，重新算梯度\n",
    "x_list = list()\n",
    "y_list = list()\n",
    "grad_list = list()\n",
    "for i in range(500):\n",
    "    optimizer.zero_grad()\n",
    "    x_list.append(x.item())\n",
    "    y = f(x)\n",
    "    y.backward()\n",
    "    optimizer.step()\n",
    "#     要放在 optimizer.step() 前面，否则 x 的值会被梯度下降更新\n",
    "#     x_list.append(x.item())\n",
    "    y_list.append(y.item())\n",
    "    grad_list.append(x.grad.item())\n",
    "    \n",
    "print(\"y=\",f(x).data,\";\",\"x=\",x.data)\n"
   ]
  },
  {
   "cell_type": "markdown",
   "id": "9e5cc5fd",
   "metadata": {},
   "source": [
    "```\n",
    "y= tensor(0.) ; x= tensor(1.0000)\n",
    "```"
   ]
  },
  {
   "cell_type": "code",
   "execution_count": 13,
   "id": "0bcb0cfc",
   "metadata": {},
   "outputs": [
    {
     "data": {
      "text/html": [
       "<div>\n",
       "<style scoped>\n",
       "    .dataframe tbody tr th:only-of-type {\n",
       "        vertical-align: middle;\n",
       "    }\n",
       "\n",
       "    .dataframe tbody tr th {\n",
       "        vertical-align: top;\n",
       "    }\n",
       "\n",
       "    .dataframe thead th {\n",
       "        text-align: right;\n",
       "    }\n",
       "</style>\n",
       "<table border=\"1\" class=\"dataframe\">\n",
       "  <thead>\n",
       "    <tr style=\"text-align: right;\">\n",
       "      <th></th>\n",
       "      <th>x</th>\n",
       "      <th>y</th>\n",
       "      <th>grad</th>\n",
       "    </tr>\n",
       "  </thead>\n",
       "  <tbody>\n",
       "    <tr>\n",
       "      <th>0</th>\n",
       "      <td>0.000000</td>\n",
       "      <td>1.000000</td>\n",
       "      <td>-2.000000</td>\n",
       "    </tr>\n",
       "    <tr>\n",
       "      <th>1</th>\n",
       "      <td>0.020000</td>\n",
       "      <td>0.960400</td>\n",
       "      <td>-1.960000</td>\n",
       "    </tr>\n",
       "    <tr>\n",
       "      <th>2</th>\n",
       "      <td>0.039600</td>\n",
       "      <td>0.922368</td>\n",
       "      <td>-1.920800</td>\n",
       "    </tr>\n",
       "    <tr>\n",
       "      <th>3</th>\n",
       "      <td>0.058808</td>\n",
       "      <td>0.885842</td>\n",
       "      <td>-1.882384</td>\n",
       "    </tr>\n",
       "    <tr>\n",
       "      <th>4</th>\n",
       "      <td>0.077632</td>\n",
       "      <td>0.850763</td>\n",
       "      <td>-1.844736</td>\n",
       "    </tr>\n",
       "    <tr>\n",
       "      <th>...</th>\n",
       "      <td>...</td>\n",
       "      <td>...</td>\n",
       "      <td>...</td>\n",
       "    </tr>\n",
       "    <tr>\n",
       "      <th>495</th>\n",
       "      <td>0.999955</td>\n",
       "      <td>0.000000</td>\n",
       "      <td>-0.000091</td>\n",
       "    </tr>\n",
       "    <tr>\n",
       "      <th>496</th>\n",
       "      <td>0.999956</td>\n",
       "      <td>0.000000</td>\n",
       "      <td>-0.000089</td>\n",
       "    </tr>\n",
       "    <tr>\n",
       "      <th>497</th>\n",
       "      <td>0.999956</td>\n",
       "      <td>0.000000</td>\n",
       "      <td>-0.000087</td>\n",
       "    </tr>\n",
       "    <tr>\n",
       "      <th>498</th>\n",
       "      <td>0.999957</td>\n",
       "      <td>0.000000</td>\n",
       "      <td>-0.000085</td>\n",
       "    </tr>\n",
       "    <tr>\n",
       "      <th>499</th>\n",
       "      <td>0.999958</td>\n",
       "      <td>0.000000</td>\n",
       "      <td>-0.000084</td>\n",
       "    </tr>\n",
       "  </tbody>\n",
       "</table>\n",
       "<p>500 rows × 3 columns</p>\n",
       "</div>"
      ],
      "text/plain": [
       "            x         y      grad\n",
       "0    0.000000  1.000000 -2.000000\n",
       "1    0.020000  0.960400 -1.960000\n",
       "2    0.039600  0.922368 -1.920800\n",
       "3    0.058808  0.885842 -1.882384\n",
       "4    0.077632  0.850763 -1.844736\n",
       "..        ...       ...       ...\n",
       "495  0.999955  0.000000 -0.000091\n",
       "496  0.999956  0.000000 -0.000089\n",
       "497  0.999956  0.000000 -0.000087\n",
       "498  0.999957  0.000000 -0.000085\n",
       "499  0.999958  0.000000 -0.000084\n",
       "\n",
       "[500 rows x 3 columns]"
      ]
     },
     "execution_count": 13,
     "metadata": {},
     "output_type": "execute_result"
    }
   ],
   "source": [
    "# x\ty\tgrad\n",
    "# 0\t0.020000\t1.000000\t-2.000000\n",
    "# 1\t0.039600\t0.960400\t-1.960000\n",
    "# 2\t0.058808\t0.922368\t-1.920800\n",
    "# 3\t0.077632\t0.885842\t-1.882384\n",
    "# 4\t0.096079\t0.850763\t-1.844736\n",
    "# ...\t...\t...\t...\n",
    "# 495\t0.999956\t0.000000\t-0.000091\n",
    "# 496\t0.999956\t0.000000\t-0.000089\n",
    "# 497\t0.999957\t0.000000\t-0.000087\n",
    "# 498\t0.999958\t0.000000\t-0.000085\n",
    "# 499\t0.999959\t0.000000\t-0.000084\n",
    "df = pd.DataFrame(zip(x_list, y_list, grad_list), columns=[\"x\", \"y\", \"grad\"])\n",
    "df"
   ]
  },
  {
   "cell_type": "code",
   "execution_count": 14,
   "id": "2078a097",
   "metadata": {},
   "outputs": [
    {
     "data": {
      "text/plain": [
       "<AxesSubplot:>"
      ]
     },
     "execution_count": 14,
     "metadata": {},
     "output_type": "execute_result"
    },
    {
     "data": {
      "image/png": "[encoded data removed]",
      "text/plain": [
       "<Figure size 432x288 with 1 Axes>"
      ]
     },
     "metadata": {
      "needs_background": "light"
     },
     "output_type": "display_data"
    }
   ],
   "source": [
    "df.plot()"
   ]
  },
  {
   "cell_type": "markdown",
   "id": "e2df7506",
   "metadata": {},
   "source": [
    "**如果本书对你有所帮助，想鼓励一下作者，记得给本项目加一颗星星star⭐️，并分享给你的朋友们喔😊!** \n",
    "\n",
    "如果对本书内容理解上有需要进一步和作者交流的地方，欢迎在公众号\"算法美食屋\"下留言。作者时间和精力有限，会酌情予以回复。\n",
    "\n",
    "也可以在公众号后台回复关键字：**加群**，加入读者交流群和大家讨论。\n",
    "\n",
    "![算法美食屋logo.png](https://tva1.sinaimg.cn/large/e6c9d24egy1h41m2zugguj20k00b9q46.jpg)"
   ]
  }
 ],
 "metadata": {
  "jupytext": {
   "cell_metadata_filter": "-all",
   "formats": "ipynb,md",
   "main_language": "python"
  },
  "kernelspec": {
   "display_name": "Python 3",
   "language": "python",
   "name": "python3"
  },
  "language_info": {
   "codemirror_mode": {
    "name": "ipython",
    "version": 3
   },
   "file_extension": ".py",
   "mimetype": "text/x-python",
   "name": "python",
   "nbconvert_exporter": "python",
   "pygments_lexer": "ipython3",
   "version": "3.8.5"
  }
 },
 "nbformat": 4,
 "nbformat_minor": 5
}
